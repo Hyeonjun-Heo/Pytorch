{
 "cells": [
  {
   "cell_type": "markdown",
   "id": "550c2675",
   "metadata": {},
   "source": [
    "# 1.4 파이토치 기초"
   ]
  },
  {
   "cell_type": "markdown",
   "id": "33ae3de4",
   "metadata": {},
   "source": [
    "파이토치는 다양한 딥러닝용 패키지를 제공하는 최적화된 텐서 조작 라이브러리 입니다. 파이토치의 핵심은 텐서입니다. 텐서는 다차원 데이터를 담은 수학 객체입니다.\n",
    "\n",
    "0차 텐서는 하나의 숫자 또는 스칼라 입니다. 1차 텐서는 숫자 배열 또는 벡터입니다. 2차텐서는 벡터의 배열 또는 행렬입니다."
   ]
  },
  {
   "cell_type": "markdown",
   "id": "6fbe9cb2",
   "metadata": {},
   "source": [
    "# 1.4.2 텐서 만들기"
   ]
  },
  {
   "cell_type": "code",
   "execution_count": 5,
   "id": "aea6d9f3",
   "metadata": {},
   "outputs": [],
   "source": [
    "import torch"
   ]
  },
  {
   "cell_type": "code",
   "execution_count": 6,
   "id": "22f87271",
   "metadata": {},
   "outputs": [],
   "source": [
    "def describe(x):\n",
    "    print(\"타입: {}\".format(x.type()))\n",
    "    print(\"크기: {}\".format(x.shape))\n",
    "    print(\"값: \\n{}\".format(x))"
   ]
  },
  {
   "cell_type": "code",
   "execution_count": 10,
   "id": "24b0e70e",
   "metadata": {},
   "outputs": [
    {
     "name": "stdout",
     "output_type": "stream",
     "text": [
      "타입: torch.FloatTensor\n",
      "크기: torch.Size([2, 3])\n",
      "값: \n",
      "tensor([[0.0000e+00, 1.0194e-38, 1.0606e-08],\n",
      "        [3.3526e-09, 1.6821e-04, 5.3935e-05]])\n"
     ]
    }
   ],
   "source": [
    "# 코드 1-3 파이토치에서 torch.Tensor로 텐서 만들기\n",
    "\n",
    "import torch\n",
    "describe(torch.Tensor(2,3))"
   ]
  },
  {
   "cell_type": "code",
   "execution_count": 2,
   "id": "538ec0aa",
   "metadata": {},
   "outputs": [
    {
     "name": "stdout",
     "output_type": "stream",
     "text": [
      "타입: torch.FloatTensor\n",
      "크기: torch.Size([2, 3])\n",
      "값: \n",
      "tensor([[0.5084, 0.2681, 0.4850],\n",
      "        [0.2761, 0.8141, 0.1408]])\n",
      "타입: torch.FloatTensor\n",
      "크기: torch.Size([2, 3])\n",
      "값: \n",
      "tensor([[ 0.1066, -0.2736, -0.8006],\n",
      "        [-0.8194, -0.4243, -0.8100]])\n"
     ]
    }
   ],
   "source": [
    "# 코드 1-4 랜덤하게 초기화한 텐서 만들기\n",
    "\n",
    "import torch\n",
    "describe(torch.rand(2,3)) # 균등 분포\n",
    "describe(torch.randn(2,3)) # 표준 정규 분포"
   ]
  },
  {
   "cell_type": "markdown",
   "id": "b6f52a11",
   "metadata": {},
   "source": [
    "표준 정규 분포는 평균이 0이고 분산이 1인 정규 분포 입니다."
   ]
  },
  {
   "cell_type": "markdown",
   "id": "7625a640",
   "metadata": {},
   "source": [
    "동일한 스칼라값으로 채운 텐서를 만들 수도 있습니다. 내장함수로 0 또는 1로 채운 텐서를 만들거나 fill_() 메서드를 사용해서 특정값으로 채울 수 있습니다.\n",
    "\n",
    "밑줄 문자(_)가 있는 파이토치 인-플레이스 메서드는 텐서값을 바꾸는 연산을 의미합니다."
   ]
  },
  {
   "cell_type": "code",
   "execution_count": 5,
   "id": "232e79bb",
   "metadata": {},
   "outputs": [
    {
     "name": "stdout",
     "output_type": "stream",
     "text": [
      "타입: torch.FloatTensor\n",
      "크기: torch.Size([2, 3])\n",
      "값: \n",
      "tensor([[0., 0., 0.],\n",
      "        [0., 0., 0.]])\n",
      "타입: torch.FloatTensor\n",
      "크기: torch.Size([2, 3])\n",
      "값: \n",
      "tensor([[1., 1., 1.],\n",
      "        [1., 1., 1.]])\n",
      "타입: torch.FloatTensor\n",
      "크기: torch.Size([2, 3])\n",
      "값: \n",
      "tensor([[5., 5., 5.],\n",
      "        [5., 5., 5.]])\n"
     ]
    }
   ],
   "source": [
    "# 코드 1-5 filled() 메서드 사용하기\n",
    "\n",
    "import torch\n",
    "describe(torch.zeros(2,3))\n",
    "x = torch.ones(2,3)\n",
    "describe(x)\n",
    "x.fill_(5)\n",
    "describe(x)"
   ]
  },
  {
   "cell_type": "code",
   "execution_count": 6,
   "id": "a5ec2d1d",
   "metadata": {},
   "outputs": [
    {
     "name": "stdout",
     "output_type": "stream",
     "text": [
      "타입: torch.FloatTensor\n",
      "크기: torch.Size([2, 3])\n",
      "값: \n",
      "tensor([[1., 2., 3.],\n",
      "        [4., 5., 6.]])\n"
     ]
    }
   ],
   "source": [
    "# 코드 1-6 파이썬 리스트로 텐서를 만들고 초기화하기\n",
    "\n",
    "x = torch.Tensor([[1,2,3],\n",
    "                  [4,5,6]])\n",
    "describe(x)"
   ]
  },
  {
   "cell_type": "markdown",
   "id": "79bc1e47",
   "metadata": {},
   "source": [
    "언제든지 파이토치 텐서를 넘파이 배열로 바꿀 수 있습니다. 넘파이 배열을 사용하면 텐서 기본 타입이 FloatTensor 가 아니라 DoubleTensor가 됩니다. 랜덤한 넘파이 배열의 기본 데이터 타입이 float64이기 때문입니다."
   ]
  },
  {
   "cell_type": "code",
   "execution_count": 7,
   "id": "bb8fa653",
   "metadata": {},
   "outputs": [
    {
     "name": "stdout",
     "output_type": "stream",
     "text": [
      "타입: torch.DoubleTensor\n",
      "크기: torch.Size([2, 3])\n",
      "값: \n",
      "tensor([[0.8669, 0.1215, 0.3907],\n",
      "        [0.4237, 0.9197, 0.9849]], dtype=torch.float64)\n"
     ]
    }
   ],
   "source": [
    "# 코드 1-7 넘파이로 텐서를 만들고 초기화하기\n",
    "\n",
    "import torch\n",
    "import numpy as np\n",
    "npy = np.random.rand(2,3)\n",
    "describe(torch.from_numpy(npy))"
   ]
  },
  {
   "cell_type": "markdown",
   "id": "42e2e16e",
   "metadata": {},
   "source": [
    "넘파이 배열과 파이토치 텐서 사이를 변환하는 기능은 넘파이 포맷의 수치 데이터를 사용하는 레거시 라이브러리를 사용할 때 중요합니다."
   ]
  },
  {
   "cell_type": "markdown",
   "id": "c5e3434f",
   "metadata": {},
   "source": [
    "# 1.4.3 텐서 타입과 크기"
   ]
  },
  {
   "cell_type": "markdown",
   "id": "30f86835",
   "metadata": {},
   "source": [
    "텐서에는 타입과 크기가 있습니다. torch.Tensor 생성자를 사용할 때 기본 텐서 타입은 torch.FloatTensor 입니다.\n",
    "\n",
    "텐서 타입은 초기화할 때 지정하거나 나중에 타입 캐스팅 메서드를 사용해 다른 타입(float, long, double등)으로 바꿀 수 있습니다.\n",
    "\n",
    "초기화할 때 타입을 지정하는 방법은 두가지입니다.\n",
    "\n",
    "1. FloatTensor와 LongTensor 같은 특정 텐서 타입의 생성자를 직접 호출\n",
    "2. torch.tensor() 메서드와 dtype 매개변수를 사용"
   ]
  },
  {
   "cell_type": "code",
   "execution_count": 8,
   "id": "024f200c",
   "metadata": {},
   "outputs": [
    {
     "name": "stdout",
     "output_type": "stream",
     "text": [
      "타입: torch.FloatTensor\n",
      "크기: torch.Size([2, 3])\n",
      "값: \n",
      "tensor([[1., 2., 3.],\n",
      "        [4., 5., 6.]])\n"
     ]
    }
   ],
   "source": [
    "# 코드 1-8 텐서 속성\n",
    "\n",
    "x = torch.FloatTensor([[1,2,3],\n",
    "                       [4,5,6]])\n",
    "describe(x)"
   ]
  },
  {
   "cell_type": "code",
   "execution_count": 9,
   "id": "bd5bf7d9",
   "metadata": {},
   "outputs": [
    {
     "name": "stdout",
     "output_type": "stream",
     "text": [
      "타입: torch.LongTensor\n",
      "크기: torch.Size([2, 3])\n",
      "값: \n",
      "tensor([[1, 2, 3],\n",
      "        [4, 5, 6]])\n"
     ]
    }
   ],
   "source": [
    "x = x.long()\n",
    "describe(x)"
   ]
  },
  {
   "cell_type": "code",
   "execution_count": 10,
   "id": "50602eb9",
   "metadata": {},
   "outputs": [
    {
     "name": "stdout",
     "output_type": "stream",
     "text": [
      "타입: torch.LongTensor\n",
      "크기: torch.Size([2, 3])\n",
      "값: \n",
      "tensor([[1, 2, 3],\n",
      "        [4, 5, 6]])\n"
     ]
    }
   ],
   "source": [
    "x = torch.tensor([[1,2,3],\n",
    "                 [4,5,6]], dtype=torch.int64)\n",
    "describe(x)"
   ]
  },
  {
   "cell_type": "code",
   "execution_count": 11,
   "id": "24835149",
   "metadata": {},
   "outputs": [
    {
     "name": "stdout",
     "output_type": "stream",
     "text": [
      "타입: torch.FloatTensor\n",
      "크기: torch.Size([2, 3])\n",
      "값: \n",
      "tensor([[1., 2., 3.],\n",
      "        [4., 5., 6.]])\n"
     ]
    }
   ],
   "source": [
    "x = x.float()\n",
    "describe(x)"
   ]
  },
  {
   "cell_type": "markdown",
   "id": "6ea9b7e6",
   "metadata": {},
   "source": [
    "텐서 객체의 shape 속성과 size()메서드를 사용해 텐서의 차원을 확인할 수 있습니다. 이 두 방법은 거의 같은 작업을 수행합니다. 파이토치 코드를 디버깅할 때는 텐서 크기를 꼭 조사해 봐야 합니다."
   ]
  },
  {
   "cell_type": "markdown",
   "id": "13aa34b3",
   "metadata": {},
   "source": [
    "# 1.4.4 텐서 연산"
   ]
  },
  {
   "cell_type": "code",
   "execution_count": 12,
   "id": "d1ffb99b",
   "metadata": {},
   "outputs": [
    {
     "name": "stdout",
     "output_type": "stream",
     "text": [
      "타입: torch.FloatTensor\n",
      "크기: torch.Size([2, 3])\n",
      "값: \n",
      "tensor([[ 0.8350, -0.2734,  1.6983],\n",
      "        [-1.6381, -0.7392, -0.1647]])\n"
     ]
    }
   ],
   "source": [
    "# 코드 1-9 텐서 연산: 덧셈\n",
    "\n",
    "import torch\n",
    "x = torch.randn(2,3)\n",
    "describe(x)"
   ]
  },
  {
   "cell_type": "code",
   "execution_count": 13,
   "id": "aed70c6d",
   "metadata": {},
   "outputs": [
    {
     "name": "stdout",
     "output_type": "stream",
     "text": [
      "타입: torch.FloatTensor\n",
      "크기: torch.Size([2, 3])\n",
      "값: \n",
      "tensor([[ 1.6699, -0.5467,  3.3966],\n",
      "        [-3.2762, -1.4785, -0.3294]])\n"
     ]
    }
   ],
   "source": [
    "describe(torch.add(x,x))"
   ]
  },
  {
   "cell_type": "code",
   "execution_count": 15,
   "id": "74664c21",
   "metadata": {},
   "outputs": [
    {
     "name": "stdout",
     "output_type": "stream",
     "text": [
      "타입: torch.FloatTensor\n",
      "크기: torch.Size([2, 3])\n",
      "값: \n",
      "tensor([[ 1.6699, -0.5467,  3.3966],\n",
      "        [-3.2762, -1.4785, -0.3294]])\n"
     ]
    }
   ],
   "source": [
    "describe(x+x)"
   ]
  },
  {
   "cell_type": "code",
   "execution_count": 16,
   "id": "b73db8d8",
   "metadata": {},
   "outputs": [
    {
     "name": "stdout",
     "output_type": "stream",
     "text": [
      "타입: torch.LongTensor\n",
      "크기: torch.Size([6])\n",
      "값: \n",
      "tensor([0, 1, 2, 3, 4, 5])\n"
     ]
    }
   ],
   "source": [
    "# 코드 1-10 차원별 텐서 연산\n",
    "\n",
    "import torch\n",
    "x = torch.arange(6)\n",
    "describe(x)"
   ]
  },
  {
   "cell_type": "code",
   "execution_count": 17,
   "id": "af4791fb",
   "metadata": {},
   "outputs": [
    {
     "name": "stdout",
     "output_type": "stream",
     "text": [
      "타입: torch.LongTensor\n",
      "크기: torch.Size([2, 3])\n",
      "값: \n",
      "tensor([[0, 1, 2],\n",
      "        [3, 4, 5]])\n"
     ]
    }
   ],
   "source": [
    "x = x.view(2,3)\n",
    "describe(x)"
   ]
  },
  {
   "cell_type": "code",
   "execution_count": 18,
   "id": "af4d2512",
   "metadata": {},
   "outputs": [
    {
     "name": "stdout",
     "output_type": "stream",
     "text": [
      "타입: torch.LongTensor\n",
      "크기: torch.Size([3])\n",
      "값: \n",
      "tensor([3, 5, 7])\n"
     ]
    }
   ],
   "source": [
    "describe(torch.sum(x, dim=0))"
   ]
  },
  {
   "cell_type": "code",
   "execution_count": 19,
   "id": "6c8b7be9",
   "metadata": {},
   "outputs": [
    {
     "name": "stdout",
     "output_type": "stream",
     "text": [
      "타입: torch.LongTensor\n",
      "크기: torch.Size([3, 2])\n",
      "값: \n",
      "tensor([[0, 3],\n",
      "        [1, 4],\n",
      "        [2, 5]])\n"
     ]
    }
   ],
   "source": [
    "describe(torch.transpose(x,0,1))"
   ]
  },
  {
   "cell_type": "markdown",
   "id": "312fc1e1",
   "metadata": {},
   "source": [
    "transpose() 함수는 두 번째와 세 번째 매개변수로 전달된 차원을 전치한 텐서를 만듭니다."
   ]
  },
  {
   "cell_type": "markdown",
   "id": "2906015d",
   "metadata": {},
   "source": [
    "# 1.4.5 인덱싱, 슬라이싱, 연결"
   ]
  },
  {
   "cell_type": "code",
   "execution_count": 4,
   "id": "725d3ba4",
   "metadata": {},
   "outputs": [
    {
     "name": "stdout",
     "output_type": "stream",
     "text": [
      "타입: torch.LongTensor\n",
      "크기: torch.Size([2, 3])\n",
      "값: \n",
      "tensor([[0, 1, 2],\n",
      "        [3, 4, 5]])\n"
     ]
    }
   ],
   "source": [
    "# 코드 1-11 텐서 슬라이싱과 인덱싱\n",
    "\n",
    "import torch\n",
    "x = torch.arange(6).view(2,3)\n",
    "describe(x)"
   ]
  },
  {
   "cell_type": "code",
   "execution_count": 5,
   "id": "81121672",
   "metadata": {},
   "outputs": [
    {
     "name": "stdout",
     "output_type": "stream",
     "text": [
      "타입: torch.LongTensor\n",
      "크기: torch.Size([1, 2])\n",
      "값: \n",
      "tensor([[0, 1]])\n"
     ]
    }
   ],
   "source": [
    "describe(x[:1, :2])"
   ]
  },
  {
   "cell_type": "code",
   "execution_count": 7,
   "id": "fc66fdac",
   "metadata": {},
   "outputs": [
    {
     "name": "stdout",
     "output_type": "stream",
     "text": [
      "타입: torch.LongTensor\n",
      "크기: torch.Size([])\n",
      "값: \n",
      "1\n"
     ]
    }
   ],
   "source": [
    "describe(x[0,1])"
   ]
  },
  {
   "cell_type": "code",
   "execution_count": 5,
   "id": "d9e6ba87",
   "metadata": {},
   "outputs": [
    {
     "name": "stdout",
     "output_type": "stream",
     "text": [
      "타입: torch.LongTensor\n",
      "크기: torch.Size([2, 2])\n",
      "값: \n",
      "tensor([[0, 2],\n",
      "        [3, 5]])\n"
     ]
    }
   ],
   "source": [
    "# 코드 1-12 복잡한 인덱싱. 연속적이지 않은 텐서 인덱스 참조하기\n",
    "\n",
    "indices = torch.LongTensor([0,2])\n",
    "describe(torch.index_select(x, dim=1, index=indices))"
   ]
  },
  {
   "cell_type": "code",
   "execution_count": 7,
   "id": "8794cb73",
   "metadata": {},
   "outputs": [
    {
     "name": "stdout",
     "output_type": "stream",
     "text": [
      "타입: torch.LongTensor\n",
      "크기: torch.Size([2, 3])\n",
      "값: \n",
      "tensor([[0, 1, 2],\n",
      "        [0, 1, 2]])\n"
     ]
    }
   ],
   "source": [
    "indices = torch.LongTensor([0,0])\n",
    "describe(torch.index_select(x, dim=0, index=indices))"
   ]
  },
  {
   "cell_type": "markdown",
   "id": "f8358c08",
   "metadata": {},
   "source": [
    "index_select()함수가 반환하는 텐서는 dim 매개변수에 지정한 차원의 크기가 index 매개변수에 지정한 텐서의 길이와 같습니다. 나머지 차원은 원본 텐서와 크기가 같습니다."
   ]
  },
  {
   "cell_type": "code",
   "execution_count": 13,
   "id": "38caa312",
   "metadata": {},
   "outputs": [
    {
     "name": "stdout",
     "output_type": "stream",
     "text": [
      "타입: torch.LongTensor\n",
      "크기: torch.Size([2])\n",
      "값: \n",
      "tensor([0, 4])\n"
     ]
    }
   ],
   "source": [
    "row_indices = torch.arange(2).long()  #[0,1]\n",
    "col_indices = torch.LongTensor([0,1]) #[0,1]\n",
    "describe(x[row_indices, col_indices]) #x[[0,1],[0,1]] = [0,4]"
   ]
  },
  {
   "cell_type": "markdown",
   "id": "937b681b",
   "metadata": {},
   "source": [
    "인덱스가 LongTensor라는 점에 주목하세요. 파이토치 함수를 사용할 때 필수 조건입니다."
   ]
  },
  {
   "cell_type": "code",
   "execution_count": 15,
   "id": "ff7f5b73",
   "metadata": {},
   "outputs": [
    {
     "name": "stdout",
     "output_type": "stream",
     "text": [
      "타입: torch.LongTensor\n",
      "크기: torch.Size([2, 3])\n",
      "값: \n",
      "tensor([[0, 1, 2],\n",
      "        [3, 4, 5]])\n"
     ]
    }
   ],
   "source": [
    "# 코드 1-13 텐서 연결\n",
    "\n",
    "import torch\n",
    "x = torch.arange(6).view(2,3)\n",
    "describe(x)"
   ]
  },
  {
   "cell_type": "code",
   "execution_count": 16,
   "id": "c33e2579",
   "metadata": {},
   "outputs": [
    {
     "name": "stdout",
     "output_type": "stream",
     "text": [
      "타입: torch.LongTensor\n",
      "크기: torch.Size([4, 3])\n",
      "값: \n",
      "tensor([[0, 1, 2],\n",
      "        [3, 4, 5],\n",
      "        [0, 1, 2],\n",
      "        [3, 4, 5]])\n"
     ]
    }
   ],
   "source": [
    "describe(torch.cat([x,x], dim=0))"
   ]
  },
  {
   "cell_type": "code",
   "execution_count": 17,
   "id": "24dc39c7",
   "metadata": {},
   "outputs": [
    {
     "name": "stdout",
     "output_type": "stream",
     "text": [
      "타입: torch.LongTensor\n",
      "크기: torch.Size([2, 6])\n",
      "값: \n",
      "tensor([[0, 1, 2, 0, 1, 2],\n",
      "        [3, 4, 5, 3, 4, 5]])\n"
     ]
    }
   ],
   "source": [
    "describe(torch.cat([x,x], dim=1))"
   ]
  },
  {
   "cell_type": "code",
   "execution_count": 29,
   "id": "0c73f71a",
   "metadata": {},
   "outputs": [
    {
     "name": "stdout",
     "output_type": "stream",
     "text": [
      "타입: torch.FloatTensor\n",
      "크기: torch.Size([2, 3])\n",
      "값: \n",
      "tensor([[0., 1., 2.],\n",
      "        [3., 4., 5.]])\n"
     ]
    }
   ],
   "source": [
    "# 코드 1-14 텐서의 선형 대수 계산: 헹렬 곱셈\n",
    "\n",
    "import torch\n",
    "x1 = torch.arange(6).view(2,3)\n",
    "x1 = x1.float()\n",
    "describe(x1)"
   ]
  },
  {
   "cell_type": "code",
   "execution_count": 28,
   "id": "b3e8d0b4",
   "metadata": {},
   "outputs": [
    {
     "name": "stdout",
     "output_type": "stream",
     "text": [
      "타입: torch.FloatTensor\n",
      "크기: torch.Size([3, 2])\n",
      "값: \n",
      "tensor([[1., 2.],\n",
      "        [1., 2.],\n",
      "        [1., 2.]])\n"
     ]
    }
   ],
   "source": [
    "x2 = torch.ones(3,2)\n",
    "x2[:,1] += 1\n",
    "describe(x2)"
   ]
  },
  {
   "cell_type": "code",
   "execution_count": 30,
   "id": "0f7601ad",
   "metadata": {},
   "outputs": [
    {
     "name": "stdout",
     "output_type": "stream",
     "text": [
      "타입: torch.FloatTensor\n",
      "크기: torch.Size([2, 2])\n",
      "값: \n",
      "tensor([[ 3.,  6.],\n",
      "        [12., 24.]])\n"
     ]
    }
   ],
   "source": [
    "describe(torch.mm(x1,x2))"
   ]
  },
  {
   "cell_type": "markdown",
   "id": "c9843a4a",
   "metadata": {},
   "source": [
    "파이토치 행렬곱셈(mm), 역행렬(inverse,pinverse), 대각합(trace)"
   ]
  },
  {
   "cell_type": "markdown",
   "id": "70f8662f",
   "metadata": {},
   "source": [
    "# 1.4.6 텐서와 계산 그래프"
   ]
  },
  {
   "cell_type": "markdown",
   "id": "09fb4d91",
   "metadata": {},
   "source": [
    "파이토치 tensor 클래스는 (텐서 그 자체인) 데이터와 대수 연산, 인덱싱, 크기 변경 같은 다양한 연산을 캡슐화합니다. 텐서의 requires_grad 불리언 매개변수를 True로 지정하면 그레이디언트 기반 학습에 필요한 손실 함수와 텐서의 그레이디언트를 기록하는 부가 연산을 활성화 합니다."
   ]
  },
  {
   "cell_type": "code",
   "execution_count": 31,
   "id": "336357e2",
   "metadata": {},
   "outputs": [
    {
     "name": "stdout",
     "output_type": "stream",
     "text": [
      "타입: torch.FloatTensor\n",
      "크기: torch.Size([2, 2])\n",
      "값: \n",
      "tensor([[1., 1.],\n",
      "        [1., 1.]], requires_grad=True)\n",
      "True\n"
     ]
    }
   ],
   "source": [
    "# 코드 1-15 그레이디언트 연산을 할 수 있는 텐서 만들기\n",
    "\n",
    "import torch\n",
    "x = torch.ones(2, 2, requires_grad=True)\n",
    "describe(x)\n",
    "print(x.grad is None)"
   ]
  },
  {
   "cell_type": "code",
   "execution_count": 34,
   "id": "b3be40ca",
   "metadata": {},
   "outputs": [
    {
     "name": "stdout",
     "output_type": "stream",
     "text": [
      "타입: torch.FloatTensor\n",
      "크기: torch.Size([2, 2])\n",
      "값: \n",
      "tensor([[21., 21.],\n",
      "        [21., 21.]], grad_fn=<AddBackward0>)\n",
      "True\n"
     ]
    }
   ],
   "source": [
    "y = (x+2)*(x+5) + 3\n",
    "describe(y)\n",
    "print(x.grad is None)"
   ]
  },
  {
   "cell_type": "code",
   "execution_count": 35,
   "id": "20db83dc",
   "metadata": {},
   "outputs": [
    {
     "name": "stdout",
     "output_type": "stream",
     "text": [
      "타입: torch.FloatTensor\n",
      "크기: torch.Size([])\n",
      "값: \n",
      "21.0\n",
      "False\n"
     ]
    }
   ],
   "source": [
    "z = y.mean()\n",
    "describe(z)\n",
    "z.backward()\n",
    "print(x.grad is None)"
   ]
  },
  {
   "cell_type": "markdown",
   "id": "ca7264f6",
   "metadata": {},
   "source": [
    "requires_grad=True로 텐서를 만들면 파이토치는 그레이디언트 계산에 사용하는 부가정보를 관리합니다.\n",
    "\n",
    "1. 먼저 파이토치가 정방향 계산의 값을 기록합니다.\n",
    "2. 계산이 끝나면 스칼라값 하나를 상요해 역방향 계산을 수행합니다.\n",
    "3. 역방향 계산은 손실 함수의 평가 결과로 얻은 텐서에서 backward() 메서드를 호출해 시작합니다.\n",
    "4. 역방향 계산은 정방향 계산에 참여한 텐서 객체에 대한 그레이디언트값을 계산합니다.\n",
    "\n",
    "일반적으로 그레이디언트는 함수 입력에 대한 함수 출력의 기울기를 나타내는 값입니다. 계산 그래프에서 그레이디언트는 모델의 파라미터마다 존재하고 오류 신호에 대한 파라미터의 기여로 생각할 수 있습니다. \n",
    "\n",
    "파이토치에서 계산 그래프에 있는 노드에 대한 그레이디언트를 .grad속성으로 참조할 수 있습니다. 옵티마이저는 .grad속성을 사용해서 파라미터값을 업데이트 합니다."
   ]
  },
  {
   "cell_type": "markdown",
   "id": "3af39866",
   "metadata": {},
   "source": [
    "# 1.4.7 CUDA 텐서"
   ]
  },
  {
   "cell_type": "code",
   "execution_count": 2,
   "id": "9f476381",
   "metadata": {},
   "outputs": [
    {
     "name": "stdout",
     "output_type": "stream",
     "text": [
      "True\n"
     ]
    }
   ],
   "source": [
    "# 코드 1-16 CUDA 텐서 만들기\n",
    "\n",
    "import torch\n",
    "print(torch.cuda.is_available())"
   ]
  },
  {
   "cell_type": "code",
   "execution_count": 3,
   "id": "3cad497b",
   "metadata": {},
   "outputs": [
    {
     "name": "stdout",
     "output_type": "stream",
     "text": [
      "cuda\n"
     ]
    }
   ],
   "source": [
    "device = torch.device(\"cuda\" if torch.cuda.is_available() else \"cpu\")\n",
    "print(device)"
   ]
  },
  {
   "cell_type": "code",
   "execution_count": 7,
   "id": "993f988e",
   "metadata": {},
   "outputs": [
    {
     "name": "stdout",
     "output_type": "stream",
     "text": [
      "타입: torch.cuda.FloatTensor\n",
      "크기: torch.Size([3, 3])\n",
      "값: \n",
      "tensor([[0.2015, 0.7781, 0.2744],\n",
      "        [0.0609, 0.0882, 0.6754],\n",
      "        [0.4325, 0.3470, 0.5062]], device='cuda:0')\n"
     ]
    }
   ],
   "source": [
    "x = torch.rand(3,3).to(device)\n",
    "describe(x)"
   ]
  },
  {
   "cell_type": "markdown",
   "id": "7c4568cf",
   "metadata": {},
   "source": [
    "CUDA 객체와 CUDA가 아닌 객체를 다루려면 두 객체가 같은 장치에 있는지 확인해야 합니다."
   ]
  },
  {
   "cell_type": "code",
   "execution_count": 8,
   "id": "69953c5a",
   "metadata": {},
   "outputs": [
    {
     "ename": "RuntimeError",
     "evalue": "Expected all tensors to be on the same device, but found at least two devices, cuda:0 and cpu!",
     "output_type": "error",
     "traceback": [
      "\u001b[1;31m---------------------------------------------------------------------------\u001b[0m",
      "\u001b[1;31mRuntimeError\u001b[0m                              Traceback (most recent call last)",
      "\u001b[1;32m~\\AppData\\Local\\Temp\\ipykernel_5820\\4240820627.py\u001b[0m in \u001b[0;36m<module>\u001b[1;34m\u001b[0m\n\u001b[0;32m      2\u001b[0m \u001b[1;33m\u001b[0m\u001b[0m\n\u001b[0;32m      3\u001b[0m \u001b[0my\u001b[0m \u001b[1;33m=\u001b[0m \u001b[0mtorch\u001b[0m\u001b[1;33m.\u001b[0m\u001b[0mrand\u001b[0m\u001b[1;33m(\u001b[0m\u001b[1;36m3\u001b[0m\u001b[1;33m,\u001b[0m\u001b[1;36m3\u001b[0m\u001b[1;33m)\u001b[0m\u001b[1;33m\u001b[0m\u001b[1;33m\u001b[0m\u001b[0m\n\u001b[1;32m----> 4\u001b[1;33m \u001b[0mx\u001b[0m\u001b[1;33m+\u001b[0m\u001b[0my\u001b[0m\u001b[1;33m\u001b[0m\u001b[1;33m\u001b[0m\u001b[0m\n\u001b[0m",
      "\u001b[1;31mRuntimeError\u001b[0m: Expected all tensors to be on the same device, but found at least two devices, cuda:0 and cpu!"
     ]
    }
   ],
   "source": [
    "# 코드 1-17 CUDA 텐서와 CPU 텐서 더하기\n",
    "\n",
    "y = torch.rand(3,3)\n",
    "x+y"
   ]
  },
  {
   "cell_type": "code",
   "execution_count": 10,
   "id": "fb5da147",
   "metadata": {},
   "outputs": [
    {
     "data": {
      "text/plain": [
       "tensor([[0.4119, 1.5020, 0.3944],\n",
       "        [0.3918, 0.4627, 0.9633],\n",
       "        [1.1726, 0.9144, 1.0520]])"
      ]
     },
     "execution_count": 10,
     "metadata": {},
     "output_type": "execute_result"
    }
   ],
   "source": [
    "cpu_device = torch.device(\"cpu\")\n",
    "y = y.to(cpu_device)\n",
    "x = x.to(cpu_device)\n",
    "x + y"
   ]
  }
 ],
 "metadata": {
  "kernelspec": {
   "display_name": "Python 3 (ipykernel)",
   "language": "python",
   "name": "python3"
  },
  "language_info": {
   "codemirror_mode": {
    "name": "ipython",
    "version": 3
   },
   "file_extension": ".py",
   "mimetype": "text/x-python",
   "name": "python",
   "nbconvert_exporter": "python",
   "pygments_lexer": "ipython3",
   "version": "3.9.13"
  }
 },
 "nbformat": 4,
 "nbformat_minor": 5
}
