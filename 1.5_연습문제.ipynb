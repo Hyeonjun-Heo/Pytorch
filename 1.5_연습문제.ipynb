{
 "cells": [
  {
   "cell_type": "markdown",
   "id": "43872574",
   "metadata": {},
   "source": [
    "# 1.5 연습문제"
   ]
  },
  {
   "cell_type": "markdown",
   "id": "44c26579",
   "metadata": {},
   "source": [
    "1. 2D 텐서를 만들고 차원 0 위치에 크기가 1인 차원을 추가하세요."
   ]
  },
  {
   "cell_type": "code",
   "execution_count": 14,
   "id": "3a26becd",
   "metadata": {},
   "outputs": [
    {
     "name": "stdout",
     "output_type": "stream",
     "text": [
      "tensor([[0.9819, 0.2791, 0.2131],\n",
      "        [0.7033, 0.2843, 0.6023],\n",
      "        [0.8637, 0.1395, 0.8265]])\n"
     ]
    },
    {
     "data": {
      "text/plain": [
       "tensor([[[0.9819, 0.2791, 0.2131],\n",
       "         [0.7033, 0.2843, 0.6023],\n",
       "         [0.8637, 0.1395, 0.8265]]])"
      ]
     },
     "execution_count": 14,
     "metadata": {},
     "output_type": "execute_result"
    }
   ],
   "source": [
    "import torch\n",
    "\n",
    "a = torch.rand(3,3)\n",
    "print(a)\n",
    "a.unsqueeze(0)"
   ]
  },
  {
   "cell_type": "markdown",
   "id": "5642e216",
   "metadata": {},
   "source": [
    "unsqueeze() 메서드는 음수 인덱스를 받을 수 있습니다. 따라서 a.unsqueeze(0)는 a.unsqueeze(-3)과 같은 결과를 반환합니다. unsqueeze() 메서드와 반대로 추가된 차원을 제거하는 squeeze() 메서드는 뷰 텐서를 반환합니다."
   ]
  },
  {
   "cell_type": "markdown",
   "id": "04f3ae16",
   "metadata": {},
   "source": [
    "2. 이전 텐서에 추가한 차원을 삭제하세요."
   ]
  },
  {
   "cell_type": "code",
   "execution_count": 15,
   "id": "f5d53aa8",
   "metadata": {},
   "outputs": [
    {
     "data": {
      "text/plain": [
       "tensor([[0.9819, 0.2791, 0.2131],\n",
       "        [0.7033, 0.2843, 0.6023],\n",
       "        [0.8637, 0.1395, 0.8265]])"
      ]
     },
     "execution_count": 15,
     "metadata": {},
     "output_type": "execute_result"
    }
   ],
   "source": [
    "a.squeeze(0)"
   ]
  },
  {
   "cell_type": "markdown",
   "id": "fef7f0d8",
   "metadata": {},
   "source": [
    "squeeze() 메서드는 크기가 1인 차원을 삭제합니다. 삭제할 차원을 지정하지 않으면 크기가 1인 모든 차원을 제거합니다."
   ]
  },
  {
   "cell_type": "markdown",
   "id": "468820b0",
   "metadata": {},
   "source": [
    "3. 범위가 [3,7] 이고, 크기가 5x3인 랜덤한 텐서를 만들세요."
   ]
  },
  {
   "cell_type": "code",
   "execution_count": 20,
   "id": "cd04e517",
   "metadata": {},
   "outputs": [
    {
     "name": "stdout",
     "output_type": "stream",
     "text": [
      "tensor([[5.5603, 5.8978, 6.7129],\n",
      "        [5.4628, 3.8799, 5.0361],\n",
      "        [6.3565, 4.8352, 3.0059],\n",
      "        [6.5444, 5.4288, 5.8711],\n",
      "        [5.1744, 3.5778, 4.6553]])\n"
     ]
    }
   ],
   "source": [
    "a = 3 + torch.rand(5,3)*(7-3)\n",
    "print(a)"
   ]
  },
  {
   "cell_type": "markdown",
   "id": "6d1f474f",
   "metadata": {},
   "source": [
    "4. 정규 분포 (평균=0, 표준편차=1)를 사용해 텐서를 만드세요."
   ]
  },
  {
   "cell_type": "code",
   "execution_count": 27,
   "id": "a5cfe17c",
   "metadata": {},
   "outputs": [
    {
     "data": {
      "text/plain": [
       "tensor([[-3.1015, -2.0532, -1.2233],\n",
       "        [-1.0046,  0.7367,  0.2217],\n",
       "        [-0.6059,  1.8498, -1.2371],\n",
       "        [ 0.8791,  0.6845,  0.5935],\n",
       "        [ 0.2345,  0.7485, -1.8156]])"
      ]
     },
     "execution_count": 27,
     "metadata": {},
     "output_type": "execute_result"
    }
   ],
   "source": [
    "a = torch.rand(5,3)\n",
    "a.normal_()"
   ]
  },
  {
   "cell_type": "markdown",
   "id": "4d37f641",
   "metadata": {},
   "source": [
    "5. 텐서 torch.Tensor([1,1,1,0,1])에서 0이 아닌 원소의 인덱스를 추출하세요."
   ]
  },
  {
   "cell_type": "code",
   "execution_count": 30,
   "id": "74e29ff2",
   "metadata": {},
   "outputs": [
    {
     "data": {
      "text/plain": [
       "tensor([[0],\n",
       "        [1],\n",
       "        [2],\n",
       "        [4]])"
      ]
     },
     "execution_count": 30,
     "metadata": {},
     "output_type": "execute_result"
    }
   ],
   "source": [
    "a = torch.Tensor([1,1,1,0,1])\n",
    "torch.where(a != 0)\n",
    "\n",
    "# 답안지\n",
    "\n",
    "a = torch.Tensor([1,1,1,0,1])\n",
    "torch.nonzero(a)"
   ]
  },
  {
   "cell_type": "markdown",
   "id": "10786aaa",
   "metadata": {},
   "source": [
    "6. 크기가 (3,1)인 랜덤한 텐서를 만들고 네 벌을 복사해 쌓으세요."
   ]
  },
  {
   "cell_type": "code",
   "execution_count": 36,
   "id": "19c7c9f6",
   "metadata": {},
   "outputs": [
    {
     "data": {
      "text/plain": [
       "tensor([[0.7735, 0.7735, 0.7735, 0.7735],\n",
       "        [0.0931, 0.0931, 0.0931, 0.0931],\n",
       "        [0.8581, 0.8581, 0.8581, 0.8581]])"
      ]
     },
     "execution_count": 36,
     "metadata": {},
     "output_type": "execute_result"
    }
   ],
   "source": [
    "a = torch.rand(3,1)\n",
    "a.expand(3,4)"
   ]
  },
  {
   "cell_type": "markdown",
   "id": "64f8c88e",
   "metadata": {},
   "source": [
    "expand() 메서드는 크기가 1인 차원을 지정한 크기로 늘립니다. 이때 반환된 텐서는 뷰 텐서입니다. 바뀌지 않을 차원을 -1로 지정할 수 있습니다. 따라서 a.expand(-1,4)로 쓸 수 있습니다."
   ]
  },
  {
   "cell_type": "markdown",
   "id": "d383dc34",
   "metadata": {},
   "source": [
    "7. 2차원 행렬 두개  (a=torch.rand(3,4,5), b=torch.rand(3,5,4))의 배치 행렬 곱셈을 계산하세요."
   ]
  },
  {
   "cell_type": "code",
   "execution_count": 44,
   "id": "4c252722",
   "metadata": {},
   "outputs": [
    {
     "name": "stdout",
     "output_type": "stream",
     "text": [
      "tensor([[[0.9888, 1.7606, 2.2026, 1.6105],\n",
      "         [0.2759, 0.4446, 0.8206, 0.6611],\n",
      "         [0.4181, 1.4726, 1.1801, 1.1710],\n",
      "         [0.5899, 1.2350, 1.3455, 1.3170]],\n",
      "\n",
      "        [[1.4436, 1.4545, 1.4814, 1.7537],\n",
      "         [0.9139, 0.7173, 1.0021, 1.0575],\n",
      "         [0.6546, 1.0881, 1.0319, 1.4339],\n",
      "         [0.9594, 1.2297, 1.0352, 1.3310]],\n",
      "\n",
      "        [[1.9198, 1.4892, 0.8851, 1.8855],\n",
      "         [2.1271, 1.8219, 1.0622, 1.4635],\n",
      "         [2.3168, 2.1176, 1.3108, 1.9367],\n",
      "         [1.9063, 1.8079, 1.1743, 1.6729]]])\n",
      "tensor([[[0.9888, 1.7606, 2.2026, 1.6105],\n",
      "         [0.2759, 0.4446, 0.8206, 0.6611],\n",
      "         [0.4181, 1.4726, 1.1801, 1.1710],\n",
      "         [0.5899, 1.2350, 1.3455, 1.3170]],\n",
      "\n",
      "        [[1.4436, 1.4545, 1.4814, 1.7537],\n",
      "         [0.9139, 0.7173, 1.0021, 1.0575],\n",
      "         [0.6546, 1.0881, 1.0319, 1.4339],\n",
      "         [0.9594, 1.2297, 1.0352, 1.3310]],\n",
      "\n",
      "        [[1.9198, 1.4892, 0.8851, 1.8855],\n",
      "         [2.1271, 1.8219, 1.0622, 1.4635],\n",
      "         [2.3168, 2.1176, 1.3108, 1.9367],\n",
      "         [1.9063, 1.8079, 1.1743, 1.6729]]])\n"
     ]
    }
   ],
   "source": [
    "a=torch.rand(3,4,5)\n",
    "b=torch.rand(3,5,4)\n",
    "c = torch.matmul(a,b)\n",
    "\n",
    "# 답안지\n",
    "\n",
    "d = torch.bmm(a,b)\n",
    "print(c)\n",
    "print(d)"
   ]
  },
  {
   "cell_type": "markdown",
   "id": "33912718",
   "metadata": {},
   "source": [
    "torch.mm = Matrix multiplication\n",
    "\n",
    "torch.bmm = Batch matrix multiplication\n",
    "\n",
    "torch.matmul =  operand가 하나는 batch matrix이고, 나머지 하나는 batch가 아닌 matrix인 경우이다."
   ]
  },
  {
   "cell_type": "markdown",
   "id": "2b80feda",
   "metadata": {},
   "source": [
    "8. 3차원 행렬 (a=torch.rand(3,4,5), b=torch.rand(5,4))의 배치 행렬곱셈을 계산하세요."
   ]
  },
  {
   "cell_type": "code",
   "execution_count": 53,
   "id": "0b75682d",
   "metadata": {},
   "outputs": [
    {
     "data": {
      "text/plain": [
       "tensor([[[0.6678, 0.6922, 1.0831, 0.9471],\n",
       "         [1.8731, 1.9109, 2.5812, 2.4127],\n",
       "         [0.9834, 1.0185, 1.5425, 1.3555],\n",
       "         [1.7757, 2.0498, 2.3849, 2.2822]],\n",
       "\n",
       "        [[1.1537, 1.4509, 1.7467, 1.6089],\n",
       "         [0.9663, 0.8295, 1.7650, 1.4730],\n",
       "         [1.1742, 1.2116, 1.8348, 1.6429],\n",
       "         [1.6195, 1.4722, 2.3578, 2.1507]],\n",
       "\n",
       "        [[1.1049, 1.2609, 1.4240, 1.4135],\n",
       "         [1.6239, 1.2479, 2.2730, 2.1244],\n",
       "         [1.0666, 1.1936, 1.3931, 1.4063],\n",
       "         [1.0678, 1.3085, 1.5721, 1.4907]]])"
      ]
     },
     "execution_count": 53,
     "metadata": {},
     "output_type": "execute_result"
    }
   ],
   "source": [
    "a=torch.rand(3,4,5)\n",
    "b=torch.rand(5,4)\n",
    "\n",
    "torch.bmm(a, b.unsqueeze(0).expand(a.size(0), *b.size()))"
   ]
  },
  {
   "cell_type": "markdown",
   "id": "f31e9dfc",
   "metadata": {},
   "source": [
    "배치 차원을 맞추기 위해서 b 텐서의 맨 앞에 차원을 추가하고, a 텐서의 첫 번째 차원 크기만큼 늘렸습니다. 이 대신 텐서 크기에 맞게 자동으로 브로드캐스팅 해주는 텐서점곱 연산인 matmul() 함수를 사용할 수 있습니다. \n",
    "\n",
    "b.size() 메소드가 반환하는 튜플에서 * 연산자가 사용되어 있습니다. 이 * 연산자는 튜플의 각 원소를 따로 전달하는 역할을 합니다.\n",
    "\n",
    "파이썬에서는 * 연산자를 함수 호출에서 사용하여 리스트 또는 튜플의 인수를 따로있는 위치 인수로 풀어줄 수 있습니다. 이는 튜플 또는 리스트의 인수를 분리하여 전달할 필요가 있을 때 유용합니다. expand 메소드를 호출할 때 *b.size()처럼 튜플을 전달하여 각 원소가 따로 전달되도록 할 수 있습니다"
   ]
  }
 ],
 "metadata": {
  "kernelspec": {
   "display_name": "Python 3 (ipykernel)",
   "language": "python",
   "name": "python3"
  },
  "language_info": {
   "codemirror_mode": {
    "name": "ipython",
    "version": 3
   },
   "file_extension": ".py",
   "mimetype": "text/x-python",
   "name": "python",
   "nbconvert_exporter": "python",
   "pygments_lexer": "ipython3",
   "version": "3.9.13"
  }
 },
 "nbformat": 4,
 "nbformat_minor": 5
}
