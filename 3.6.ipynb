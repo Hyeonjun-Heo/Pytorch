{
 "cells": [
  {
   "cell_type": "markdown",
   "id": "091ea62c",
   "metadata": {},
   "source": [
    "# 3.6 예제: 레스토랑 리뷰 감성 분류하기\n",
    "\n",
    "이 프로젝트는 리뷰와 감성 레이블(긍정 or 부정)이 쌍을 이루는 옐프 데이터셋을 사용합니다.  \n",
    "데이터를 정제하고, 훈련, 검증, 테스트 세트로 나누는 전처리 단계 및 몇가지를 추가로 설명하면서 프로젝트를 진행합니다."
   ]
  },
  {
   "cell_type": "markdown",
   "id": "112ee4a0",
   "metadata": {},
   "source": [
    "앞으로 매번 사용할 3개의 보조 클래스에 대해서 간단하게 설명해보면,  \n",
    "1. Vocabularay = 샘플과 타깃의 인코딩에서 설명한 정수와 토큰 매핑을 수행\n",
    "2. Vectorizer = 어휘 사전을 캡슐화 하고 리뷰 텍스트 같은 문자열 데이터를 훈련과정에서 사요할 수치 벡터로 전환.\n",
    "3. DataLoader = 개별 벡터 데이터 포인트를 미니 배치로 모으는 역할"
   ]
  },
  {
   "cell_type": "markdown",
   "id": "c77bb292",
   "metadata": {},
   "source": [
    "# 3.6.1 옐프 리뷰 데이터셋\n",
    "\n",
    "해당 프로젝트에서는 데이터셋의 훈련 샘플의 10%만 사용합니다. (Light version)   \n",
    "이렇게 작은 데이터셋을 사용하면 훈련과 테스트가 빨라지지만 전체 데이터셋을 사용할 때 보다 낮은 정확도를 가집니다.\n",
    "\n",
    "데이터셋을 훈련,검증,테스트용으로 나눌겁니다.  \n",
    "훈련세트로 모델을 훈련하고, 검증세트로 모델이 얼마나 잘 작동하는지 평가합니다.  \n",
    "검증 세트를 기반으로 모델을 선택하게 되면 물가피하게 모델이 검증세트에 더 잘 수행되도록 편향되기 때문에 모델이 점차 개선되는지 재평가 해보기 위해서 세번째 세트인 평가세트를 활용해서 이 문제를 해결합니다."
   ]
  },
  {
   "cell_type": "code",
   "execution_count": 3,
   "id": "287f61af",
   "metadata": {},
   "outputs": [],
   "source": [
    "# import \n",
    "import collections\n",
    "import numpy as np\n",
    "import pandas as pd\n",
    "import re\n",
    "\n",
    "from argparse import Namespace"
   ]
  },
  {
   "cell_type": "code",
   "execution_count": 24,
   "id": "0d0fcc63",
   "metadata": {},
   "outputs": [],
   "source": [
    "# \n",
    "args = Namespace(\n",
    "    raw_train_dataset_csv = \"raw_train.csv\",\n",
    "    raw_test_dataset_csv = \"raw_test.csv\",\n",
    "    proportion_subset_of_train = 0.1,\n",
    "    train_proportion = 0.7,\n",
    "    val_proportion = 0.15,\n",
    "    test_proportion = 0.15,\n",
    "    output_munged_csv = \"reviews_with_splits_lite.csv\",\n",
    "    seed = 1337\n",
    ")"
   ]
  },
  {
   "cell_type": "markdown",
   "id": "c2ae1812",
   "metadata": {},
   "source": [
    "인자와 부속명령을 위한 명령행 옵션인, argparse를 활용해서 파이썬 내부에서 파일을 다운받고, 데이터를 나누어 줄 수 있습니다.  \n",
    "train 70%, validation 15%, test 15%로 데이터를 분할할 예정입니다."
   ]
  },
  {
   "cell_type": "code",
   "execution_count": 16,
   "id": "5d137460",
   "metadata": {},
   "outputs": [],
   "source": [
    "# 원본 데이터를 읽습니다.\n",
    "train_reviews = pd.read_csv(args.raw_train_dataset_csv, header=None, names=['rating', 'review'])"
   ]
  },
  {
   "cell_type": "markdown",
   "id": "f5bcd2ab",
   "metadata": {},
   "source": [
    "다운받은 원본데이터를 파이썬에서 활용하기 위해 train_reviews 변수에 데이터를 읽어주고 컬럼명을 rating과 review 로 지정해주었다."
   ]
  },
  {
   "cell_type": "code",
   "execution_count": 18,
   "id": "808fc89b",
   "metadata": {},
   "outputs": [],
   "source": [
    "# 리뷰 클래스 비율이 동일하도록 만듭니다.\n",
    "by_rating = collections.defaultdict(list)\n",
    "for _, row in train_reviews.iterrows():\n",
    "    by_rating[row.rating].append(row.to_dict())\n",
    "    \n",
    "review_subset = []\n",
    "\n",
    "for _, item_list in sorted(by_rating.items()):\n",
    "    n_total = len(item_list)\n",
    "    n_subset = int(args.proportion_subset_of_train * n_total)\n",
    "    review_subset.extend(item_list[:n_subset])\n",
    "    \n",
    "review_subset = pd.DataFrame(review_subset)"
   ]
  },
  {
   "cell_type": "markdown",
   "id": "70d0334c",
   "metadata": {},
   "source": [
    "review_subset에 존재하는 데이터에서 10% 에 해당하는 데이터만 따로 저장해준다.  \n",
    "그리고 defaultdic메서드를 활용해서 클래스별로 비율이 동일하도록 만들어 준 것이다."
   ]
  },
  {
   "cell_type": "code",
   "execution_count": 19,
   "id": "387006ce",
   "metadata": {},
   "outputs": [
    {
     "data": {
      "text/html": [
       "<div>\n",
       "<style scoped>\n",
       "    .dataframe tbody tr th:only-of-type {\n",
       "        vertical-align: middle;\n",
       "    }\n",
       "\n",
       "    .dataframe tbody tr th {\n",
       "        vertical-align: top;\n",
       "    }\n",
       "\n",
       "    .dataframe thead th {\n",
       "        text-align: right;\n",
       "    }\n",
       "</style>\n",
       "<table border=\"1\" class=\"dataframe\">\n",
       "  <thead>\n",
       "    <tr style=\"text-align: right;\">\n",
       "      <th></th>\n",
       "      <th>rating</th>\n",
       "      <th>review</th>\n",
       "    </tr>\n",
       "  </thead>\n",
       "  <tbody>\n",
       "    <tr>\n",
       "      <th>0</th>\n",
       "      <td>1</td>\n",
       "      <td>Unfortunately, the frustration of being Dr. Go...</td>\n",
       "    </tr>\n",
       "    <tr>\n",
       "      <th>1</th>\n",
       "      <td>1</td>\n",
       "      <td>I don't know what Dr. Goldberg was like before...</td>\n",
       "    </tr>\n",
       "    <tr>\n",
       "      <th>2</th>\n",
       "      <td>1</td>\n",
       "      <td>I'm writing this review to give you a heads up...</td>\n",
       "    </tr>\n",
       "    <tr>\n",
       "      <th>3</th>\n",
       "      <td>1</td>\n",
       "      <td>Wing sauce is like water. Pretty much a lot of...</td>\n",
       "    </tr>\n",
       "    <tr>\n",
       "      <th>4</th>\n",
       "      <td>1</td>\n",
       "      <td>Owning a driving range inside the city limits ...</td>\n",
       "    </tr>\n",
       "  </tbody>\n",
       "</table>\n",
       "</div>"
      ],
      "text/plain": [
       "   rating                                             review\n",
       "0       1  Unfortunately, the frustration of being Dr. Go...\n",
       "1       1  I don't know what Dr. Goldberg was like before...\n",
       "2       1  I'm writing this review to give you a heads up...\n",
       "3       1  Wing sauce is like water. Pretty much a lot of...\n",
       "4       1  Owning a driving range inside the city limits ..."
      ]
     },
     "execution_count": 19,
     "metadata": {},
     "output_type": "execute_result"
    }
   ],
   "source": [
    "review_subset.head()"
   ]
  },
  {
   "cell_type": "code",
   "execution_count": 20,
   "id": "898f11d6",
   "metadata": {},
   "outputs": [
    {
     "data": {
      "text/plain": [
       "1    280000\n",
       "2    280000\n",
       "Name: rating, dtype: int64"
      ]
     },
     "execution_count": 20,
     "metadata": {},
     "output_type": "execute_result"
    }
   ],
   "source": [
    "train_reviews.rating.value_counts()"
   ]
  },
  {
   "cell_type": "markdown",
   "id": "ebfb8033",
   "metadata": {},
   "source": [
    "앞에서 클래스별로 비율이 동일하도록 만들어준 결과값입니다. (클래스별로 각각 28000개)"
   ]
  },
  {
   "cell_type": "code",
   "execution_count": 21,
   "id": "cbaa64c6",
   "metadata": {},
   "outputs": [
    {
     "data": {
      "text/plain": [
       "{1, 2}"
      ]
     },
     "execution_count": 21,
     "metadata": {},
     "output_type": "execute_result"
    }
   ],
   "source": [
    "# 고유 클래스\n",
    "set(review_subset.rating)"
   ]
  },
  {
   "cell_type": "markdown",
   "id": "6a08ab6d",
   "metadata": {},
   "source": [
    "클래스는 1과 2로 나누어지는 것을 볼 수 있다.  \n",
    "1은 negative, 2는 positive 클래스이다."
   ]
  },
  {
   "cell_type": "code",
   "execution_count": 34,
   "id": "cfeb65aa",
   "metadata": {},
   "outputs": [],
   "source": [
    "# 코드 3-12 훈련,검증,테스트 세트 만들기\n",
    "\n",
    "# 별점 기준으로 나누어, 훈련, 검증, 테스트를 만듭니다.\n",
    "by_rating = collections.defaultdict(list)\n",
    "for _, row in review_subset.iterrows():\n",
    "    by_rating[row.rating].append(row.to_dict())\n",
    "    \n",
    "# 분할 데이터를 만듭니다.\n",
    "final_list = []\n",
    "np.random.seed(args.seed)\n",
    "\n",
    "for _, item_list in sorted(by_rating.items()):\n",
    "    np.random.shuffle(item_list)\n",
    "    n_total = len(item_list)\n",
    "    n_train = int(args.train_proportion * n_total)\n",
    "    n_val = int(args.val_proportion * n_total)\n",
    "    n_test = int(args.test_proportion * n_total)\n",
    "    \n",
    "    # 데이터 포인트에 분할 속성을 추가합니다.\n",
    "    for item in item_list[:n_train]:\n",
    "        item['split'] = 'train'\n",
    "    \n",
    "    for item in item_list[n_train:n_train+n_val]:\n",
    "        item['split'] = 'val'\n",
    "        \n",
    "    for item in item_list[n_train+n_val:n_train+n_val+n_test]:\n",
    "        item['split'] = 'test'\n",
    "        \n",
    "    # 최종 리스트에 추가합니다.\n",
    "    final_list.extend(item_list)\n",
    "    \n",
    "# 분할 데이터를 데이터 프레임으로 만듭니다.\n",
    "final_reviews = pd.DataFrame(final_list)"
   ]
  },
  {
   "cell_type": "markdown",
   "id": "d99aaf15",
   "metadata": {},
   "source": [
    "앞서 나왔던 args에서 지정한 7:1.5:1.5 비율로 각각 데이터를 train/val/test로 지정했고, 최종 리스트에 추가해주었다.\n",
    "\n",
    "리스트형태의 데이터를 분석에 용이한 pandas 데이터 프레임으로 만들어준다."
   ]
  },
  {
   "cell_type": "code",
   "execution_count": 35,
   "id": "c7baeb3a",
   "metadata": {},
   "outputs": [
    {
     "data": {
      "text/plain": [
       "train    39200\n",
       "val       8400\n",
       "test      8400\n",
       "Name: split, dtype: int64"
      ]
     },
     "execution_count": 35,
     "metadata": {},
     "output_type": "execute_result"
    }
   ],
   "source": [
    "final_reviews.split.value_counts()"
   ]
  },
  {
   "cell_type": "code",
   "execution_count": 36,
   "id": "3b36eb1b",
   "metadata": {},
   "outputs": [],
   "source": [
    "# 코드 3-13 최소한의 데이터 정제 작업\n",
    "def preprocess_text(text):\n",
    "    text = text.lower()\n",
    "    text = re.sub(r\"([.,!?])\", r\" \\1\", text)\n",
    "    text = re.sub(r\"[^a-zA-Z.,!?]+\", r\" \", text)\n",
    "    return text\n",
    "\n",
    "final_reviews.review = final_reviews.review.apply(preprocess_text)"
   ]
  },
  {
   "cell_type": "markdown",
   "id": "343d411a",
   "metadata": {},
   "source": [
    "최소한의 데이터 정제작업을 거친다.  \n",
    "정규식을 활용하여 기호 앞뒤에 공백을 넣고, 구두점이 아닌 기호를 제거하는 정제작업을 진행해주었다."
   ]
  },
  {
   "cell_type": "code",
   "execution_count": 37,
   "id": "1b61dfc0",
   "metadata": {},
   "outputs": [],
   "source": [
    "final_reviews['rating'] = final_reviews.rating.apply({1: 'negative', 2: 'positive'}.get)"
   ]
  },
  {
   "cell_type": "code",
   "execution_count": 40,
   "id": "2ab6af59",
   "metadata": {},
   "outputs": [
    {
     "data": {
      "text/html": [
       "<div>\n",
       "<style scoped>\n",
       "    .dataframe tbody tr th:only-of-type {\n",
       "        vertical-align: middle;\n",
       "    }\n",
       "\n",
       "    .dataframe tbody tr th {\n",
       "        vertical-align: top;\n",
       "    }\n",
       "\n",
       "    .dataframe thead th {\n",
       "        text-align: right;\n",
       "    }\n",
       "</style>\n",
       "<table border=\"1\" class=\"dataframe\">\n",
       "  <thead>\n",
       "    <tr style=\"text-align: right;\">\n",
       "      <th></th>\n",
       "      <th>rating</th>\n",
       "      <th>review</th>\n",
       "      <th>split</th>\n",
       "    </tr>\n",
       "  </thead>\n",
       "  <tbody>\n",
       "    <tr>\n",
       "      <th>0</th>\n",
       "      <td>negative</td>\n",
       "      <td>terrible place to work for i just heard a stor...</td>\n",
       "      <td>train</td>\n",
       "    </tr>\n",
       "    <tr>\n",
       "      <th>1</th>\n",
       "      <td>negative</td>\n",
       "      <td>hours , minutes total time for an extremely s...</td>\n",
       "      <td>train</td>\n",
       "    </tr>\n",
       "    <tr>\n",
       "      <th>2</th>\n",
       "      <td>negative</td>\n",
       "      <td>my less than stellar review is for service . w...</td>\n",
       "      <td>train</td>\n",
       "    </tr>\n",
       "    <tr>\n",
       "      <th>3</th>\n",
       "      <td>negative</td>\n",
       "      <td>i m granting one star because there s no way t...</td>\n",
       "      <td>train</td>\n",
       "    </tr>\n",
       "    <tr>\n",
       "      <th>4</th>\n",
       "      <td>negative</td>\n",
       "      <td>the food here is mediocre at best . i went aft...</td>\n",
       "      <td>train</td>\n",
       "    </tr>\n",
       "  </tbody>\n",
       "</table>\n",
       "</div>"
      ],
      "text/plain": [
       "     rating                                             review  split\n",
       "0  negative  terrible place to work for i just heard a stor...  train\n",
       "1  negative   hours , minutes total time for an extremely s...  train\n",
       "2  negative  my less than stellar review is for service . w...  train\n",
       "3  negative  i m granting one star because there s no way t...  train\n",
       "4  negative  the food here is mediocre at best . i went aft...  train"
      ]
     },
     "execution_count": 40,
     "metadata": {},
     "output_type": "execute_result"
    }
   ],
   "source": [
    "final_reviews.head()"
   ]
  },
  {
   "cell_type": "code",
   "execution_count": 41,
   "id": "061272f8",
   "metadata": {},
   "outputs": [],
   "source": [
    "final_reviews.to_csv(args.output_munged_csv, index=False)"
   ]
  }
 ],
 "metadata": {
  "kernelspec": {
   "display_name": "Python 3 (ipykernel)",
   "language": "python",
   "name": "python3"
  },
  "language_info": {
   "codemirror_mode": {
    "name": "ipython",
    "version": 3
   },
   "file_extension": ".py",
   "mimetype": "text/x-python",
   "name": "python",
   "nbconvert_exporter": "python",
   "pygments_lexer": "ipython3",
   "version": "3.9.13"
  }
 },
 "nbformat": 4,
 "nbformat_minor": 5
}
